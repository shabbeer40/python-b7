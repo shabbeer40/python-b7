{
 "cells": [
  {
   "cell_type": "code",
   "execution_count": 31,
   "metadata": {},
   "outputs": [],
   "source": [
    "class bank_account():\n",
    "    def __init__(self,owner_name,balance):\n",
    "        self.owner_name=owner_name\n",
    "        self.balance=balance\n",
    "        \n",
    "    def deposit(self):\n",
    "        print(self.owner_name)\n",
    "        amount=float(input())\n",
    "        self.balance+=amount\n",
    "        print(\"\\n Amount Deposited\",amount)\n",
    "        print(\"\\n Total Balance\",self.balance)\n",
    "    def withdraw(self):\n",
    "        print(self.owner_name)\n",
    "        amount=float(input())\n",
    "        if self.balance>=amount:\n",
    "            self.balance-=amount\n",
    "            print(\"\\n Withdraw amount\",amount)\n",
    "            print(\"\\n Total Balance\",self.balance)\n",
    "        else:\n",
    "            print(\"\\n Insufficient Balance! Your Available Balance is\",self.balance)"
   ]
  },
  {
   "cell_type": "code",
   "execution_count": 32,
   "metadata": {},
   "outputs": [],
   "source": [
    "d=bank_account(\"shabbeer\",1000)"
   ]
  },
  {
   "cell_type": "code",
   "execution_count": 33,
   "metadata": {},
   "outputs": [
    {
     "name": "stdout",
     "output_type": "stream",
     "text": [
      "shabbeer\n",
      "5000\n",
      "\n",
      " Amount Deposited 5000.0\n",
      "\n",
      " Total Balance 6000.0\n"
     ]
    }
   ],
   "source": [
    "d.deposit()"
   ]
  },
  {
   "cell_type": "code",
   "execution_count": 34,
   "metadata": {},
   "outputs": [
    {
     "name": "stdout",
     "output_type": "stream",
     "text": [
      "shabbeer\n",
      "2000\n",
      "\n",
      " Withdraw amount 2000.0\n",
      "\n",
      " Total Balance 4000.0\n"
     ]
    }
   ],
   "source": [
    "d.withdraw()"
   ]
  },
  {
   "cell_type": "code",
   "execution_count": 35,
   "metadata": {},
   "outputs": [
    {
     "name": "stdout",
     "output_type": "stream",
     "text": [
      "shabbeer\n",
      "1000\n",
      "\n",
      " Amount Deposited 1000.0\n",
      "\n",
      " Total Balance 5000.0\n"
     ]
    }
   ],
   "source": [
    "d.deposit()"
   ]
  },
  {
   "cell_type": "code",
   "execution_count": 36,
   "metadata": {},
   "outputs": [
    {
     "name": "stdout",
     "output_type": "stream",
     "text": [
      "shabbeer\n",
      "7000\n",
      "\n",
      " Insufficient Balance! Your Available Balance is 5000.0\n"
     ]
    }
   ],
   "source": [
    "d.withdraw()"
   ]
  },
  {
   "cell_type": "code",
   "execution_count": null,
   "metadata": {},
   "outputs": [],
   "source": []
  }
 ],
 "metadata": {
  "kernelspec": {
   "display_name": "Python 3",
   "language": "python",
   "name": "python3"
  },
  "language_info": {
   "codemirror_mode": {
    "name": "ipython",
    "version": 3
   },
   "file_extension": ".py",
   "mimetype": "text/x-python",
   "name": "python",
   "nbconvert_exporter": "python",
   "pygments_lexer": "ipython3",
   "version": "3.8.3"
  }
 },
 "nbformat": 4,
 "nbformat_minor": 4
}
