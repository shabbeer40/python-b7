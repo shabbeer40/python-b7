{
 "cells": [
  {
   "cell_type": "code",
   "execution_count": 3,
   "metadata": {},
   "outputs": [
    {
     "name": "stdout",
     "output_type": "stream",
     "text": [
      "<class 'list'>1,1,5\n",
      "<class 'list'>1,5,6,4,1,2,3,5\n",
      "it's a Match\n"
     ]
    }
   ],
   "source": [
    "sub_list=input(list)\n",
    "listy=input(list)\n",
    "flag=0\n",
    "if (set(sub_list).issubset(set(listy))):\n",
    "        flag=1\n",
    "if (flag):\n",
    "    print(\"it's a Match\")\n",
    "else:\n",
    "    print(\"it's Gone\")"
   ]
  },
  {
   "cell_type": "code",
   "execution_count": null,
   "metadata": {},
   "outputs": [],
   "source": []
  }
 ],
 "metadata": {
  "kernelspec": {
   "display_name": "Python 3",
   "language": "python",
   "name": "python3"
  },
  "language_info": {
   "codemirror_mode": {
    "name": "ipython",
    "version": 3
   },
   "file_extension": ".py",
   "mimetype": "text/x-python",
   "name": "python",
   "nbconvert_exporter": "python",
   "pygments_lexer": "ipython3",
   "version": "3.8.3"
  }
 },
 "nbformat": 4,
 "nbformat_minor": 4
}
