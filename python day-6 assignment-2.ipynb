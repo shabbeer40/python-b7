{
 "cells": [
  {
   "cell_type": "code",
   "execution_count": 19,
   "metadata": {},
   "outputs": [],
   "source": [
    "import math\n",
    "pi=math.pi\n",
    "class cone():\n",
    "    def __init__(self,Radius,Height):\n",
    "        self.Radius=Radius\n",
    "        self.Height=Height\n",
    "        \n",
    "    def volume(self):\n",
    "        volume=(1/3) * pi * self.Radius * self.Height\n",
    "        print(\"\\n Cone Volume:\",volume)\n",
    "    \n",
    "    def surfacearea(self):\n",
    "        surfacearea=pi * self.Radius * self.Height + pi * self.Radius * self.Radius   \n",
    "        print(\"\\n Cone Surfacearea:\",surfacearea)"
   ]
  },
  {
   "cell_type": "code",
   "execution_count": 20,
   "metadata": {},
   "outputs": [],
   "source": [
    "c=cone(5,6)"
   ]
  },
  {
   "cell_type": "code",
   "execution_count": 21,
   "metadata": {},
   "outputs": [
    {
     "name": "stdout",
     "output_type": "stream",
     "text": [
      "\n",
      " Cone Volume: 31.415926535897928\n"
     ]
    }
   ],
   "source": [
    "c.volume()"
   ]
  },
  {
   "cell_type": "code",
   "execution_count": 22,
   "metadata": {},
   "outputs": [
    {
     "name": "stdout",
     "output_type": "stream",
     "text": [
      "\n",
      " Cone Surfacearea: 172.7875959474386\n"
     ]
    }
   ],
   "source": [
    "c.surfacearea()"
   ]
  },
  {
   "cell_type": "code",
   "execution_count": null,
   "metadata": {},
   "outputs": [],
   "source": []
  }
 ],
 "metadata": {
  "kernelspec": {
   "display_name": "Python 3",
   "language": "python",
   "name": "python3"
  },
  "language_info": {
   "codemirror_mode": {
    "name": "ipython",
    "version": 3
   },
   "file_extension": ".py",
   "mimetype": "text/x-python",
   "name": "python",
   "nbconvert_exporter": "python",
   "pygments_lexer": "ipython3",
   "version": "3.8.3"
  }
 },
 "nbformat": 4,
 "nbformat_minor": 4
}
